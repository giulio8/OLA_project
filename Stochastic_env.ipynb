{
 "cells": [
  {
   "cell_type": "markdown",
   "metadata": {},
   "source": [
    "## Stochastic environment (First requirement)"
   ]
  },
  {
   "cell_type": "code",
   "execution_count": 1,
   "metadata": {},
   "outputs": [],
   "source": [
    "import numpy as np\n",
    "import matplotlib.pyplot as plt "
   ]
  },
  {
   "cell_type": "markdown",
   "metadata": {},
   "source": [
    "### Stochastic environment \n",
    "The stochastic environment takes as \"input\" the action of the agent which corresponds to the bid. Then it simulates the distribution from which the other bids are sampled and the probability conversion (prob. of buying given a price -> demand curve normalized). Eventually, it outputs the reward associated with  "
   ]
  },
  {
   "cell_type": "code",
   "execution_count": null,
   "metadata": {},
   "outputs": [],
   "source": [
    "class stochastic_env():\n",
    "    def __init__(probability_conversion):\n",
    "        #self.rewards \n",
    "        self.probability_conversion = probability_conversion\n",
    "\n",
    "    def round():\n",
    "        # \n",
    "        pass\n",
    "\n",
    "    "
   ]
  },
  {
   "cell_type": "markdown",
   "metadata": {},
   "source": [
    "### Pricing algorithm\n",
    "Build a pricing strategy using the continuous set of prices $p \\in [0,1]$ and Gaussian Processes"
   ]
  },
  {
   "cell_type": "code",
   "execution_count": 2,
   "metadata": {},
   "outputs": [],
   "source": [
    "# taken from lab session 3\n",
    "class RBFGaussianProcess:\n",
    "    def __init__(self, scale=1, reg=1e-2):\n",
    "        self.scale = scale \n",
    "        self.reg = reg\n",
    "        self.k_xx_inv = None\n",
    "\n",
    "    def rbf_kernel_incr_inv(self, B, C, D):\n",
    "        temp = np.linalg.inv(D - C @ self.k_xx_inv @ B)\n",
    "        block1 = self.k_xx_inv + self.k_xx_inv @ B @ temp @ C @ self.k_xx_inv\n",
    "        block2 = - self.k_xx_inv @ B @ temp\n",
    "        block3 = - temp @ C @ self.k_xx_inv\n",
    "        block4 = temp\n",
    "        res1 = np.concatenate((block1, block2), axis=1)\n",
    "        res2 = np.concatenate((block3, block4), axis=1)\n",
    "        res = np.concatenate((res1, res2), axis=0)\n",
    "        return res\n",
    "\n",
    "    def rbf_kernel(self, a, b):\n",
    "        a_ = a.reshape(-1, 1)\n",
    "        b_ = b.reshape(-1, 1)\n",
    "        output = -1 * np.ones((a_.shape[0], b_.shape[0]))\n",
    "        for i in range(a_.shape[0]):\n",
    "            output[i, :] = np.power(a_[i] - b_, 2).ravel()\n",
    "        return np.exp(-self.scale * output)\n",
    "    \n",
    "    def fit(self, x=np.array([]), y=np.array([])):\n",
    "        x,y = np.array(x),np.array(y)\n",
    "        if self.k_xx_inv is None:\n",
    "            self.y = y.reshape(-1,1)\n",
    "            self.x = x.reshape(-1,1)\n",
    "            k_xx = self.rbf_kernel(self.x, self.x) + self.reg * np.eye(self.x.shape[0])\n",
    "            self.k_xx_inv = np.linalg.inv(k_xx)\n",
    "        else:\n",
    "            B = self.rbf_kernel(self.x, x)\n",
    "            self.x = np.vstack((self.x, x))\n",
    "            self.y = np.vstack((self.y, y))\n",
    "            self.k_xx_inv = self.rbf_kernel_incr_inv(B, B.T, np.array([1 + self.reg]))\n",
    "\n",
    "        return self\n",
    "\n",
    "    def predict(self, x_predict):\n",
    "        k = self.rbf_kernel(x_predict, self.x)\n",
    "\n",
    "        mu_hat = k @ self.k_xx_inv @ self.y\n",
    "        sigma_hat = 1 - np.diag(k @ self.k_xx_inv @ k.T)\n",
    "\n",
    "        return mu_hat.ravel(), sigma_hat.ravel()"
   ]
  },
  {
   "cell_type": "markdown",
   "metadata": {},
   "source": [
    "Implementing the Gaussian Processes in our agent:"
   ]
  },
  {
   "cell_type": "code",
   "execution_count": 3,
   "metadata": {},
   "outputs": [],
   "source": [
    "# taken from lab session 3 as well\n",
    "class pricing_agent():\n",
    "    def __init__(self, T, discretization=100):\n",
    "        self.T = T\n",
    "        self.arms = np.linspace(0, 1, discretization)\n",
    "        self.gp = RBFGaussianProcess(scale=2).fit()\n",
    "        self.a_t = None\n",
    "        self.action_hist = np.array([])\n",
    "        self.reward_hist = np.array([])\n",
    "        self.mu_t = np.zeros(discretization)\n",
    "        self.sigma_t = np.zeros(discretization)\n",
    "        self.gamma = lambda t: np.log(t+1)**2 \n",
    "        self.beta = lambda t: 1 + 0.5*np.sqrt(2 * (self.gamma(t) + 1 + np.log(T)))      # from PAPER LINKED IGP-UCB ALGORITHM\n",
    "        self.N_pulls = np.zeros(discretization)\n",
    "        self.t = 0\n",
    "    \n",
    "    def pull_arm(self):\n",
    "        self.mu_t, self.sigma_t = self.gp.predict(self.arms) \n",
    "        ucbs = self.mu_t + self.beta(t) * self.sigma_t\n",
    "        self.a_t = np.argmax(ucbs)\n",
    "        return self.arms[self.a_t]\n",
    "    \n",
    "    def update(self, r_t):\n",
    "        self.N_pulls[self.a_t] += 1\n",
    "        self.action_hist = np.append(self.action_hist, self.arms[self.a_t])\n",
    "        self.reward_hist = np.append(self.reward_hist, r_t)\n",
    "        self.gp = self.gp.fit(self.arms[self.a_t], r_t)\n",
    "        self.t += 1"
   ]
  },
  {
   "cell_type": "markdown",
   "metadata": {},
   "source": [
    "### Bidding algorithms\n",
    "Consider a sequence of second-price auctions. Build two learning algorithms to deal with the bidding problem:\n",
    "- a primal-dual algorithm for truthful auctions\n",
    "- a UCB-like algorithm\n",
    "\n",
    "Since we are in a \"second-price case\" this means that we are in non-truthful auctions. "
   ]
  },
  {
   "cell_type": "code",
   "execution_count": null,
   "metadata": {},
   "outputs": [],
   "source": [
    "class primal_dual_agent():\n",
    "    def __init__(self) -> None:\n",
    "        pass \n",
    "    \n",
    "    def action():\n",
    "        # choose price\n",
    "        pass\n",
    "    \n",
    "    def update():\n",
    "        pass"
   ]
  },
  {
   "cell_type": "markdown",
   "metadata": {},
   "source": [
    "This can be implemented following the algorithm in the slide 18 from slide package 8."
   ]
  },
  {
   "cell_type": "code",
   "execution_count": null,
   "metadata": {},
   "outputs": [],
   "source": [
    "class UCB_agent():\n",
    "    def __init__(self) -> None:\n",
    "        pass \n",
    "    \n",
    "    def action():\n",
    "        # choose price\n",
    "        pass\n",
    "    \n",
    "    def update():\n",
    "        pass"
   ]
  },
  {
   "cell_type": "markdown",
   "metadata": {},
   "source": [
    "### General framework to be modeled\n",
    "Doubts: \n",
    "- how do we define how lambda changes depending on s (i.e. the probability of seeing the ad given its slot position)\n",
    "- is there an auction for each slot or they are associated depending on how much money are spent for just one auction"
   ]
  },
  {
   "cell_type": "code",
   "execution_count": 5,
   "metadata": {},
   "outputs": [],
   "source": [
    "ITERATIONS = 1000\n",
    "AUCTIONS = 100\n",
    "N_CUSTOMERS = 100\n",
    "N_COMPANIES = 10    # number of companies that compete for slot auctions\n",
    "LAMBDA = lambda s: 1/s+1       # probability of the ad being seen given the position s ->  0.5 for first position, 0.33 for second, 0.25 for third, etc...\n",
    "\n",
    "pricing_agent = pricing_agent(ITERATIONS, 100)\n",
    "\n",
    "for round in range(ITERATIONS):\n",
    "    pricing_agent.pull_arm()    # pricing agent choose a price p for the product\n",
    "\n",
    "    for auction in range(AUCTIONS):\n",
    "        # bidding agent decides how much to bid \n",
    "        # somebody wins the auction\n",
    "        # the environment decides how to associate the probability of click given the position of the ad <- FIXED\n",
    "        # the product might be bought depending on the demand curve <- defined in the environment\n",
    "        # the agent receives a reward\n",
    "        pass"
   ]
  }
 ],
 "metadata": {
  "kernelspec": {
   "display_name": "base",
   "language": "python",
   "name": "python3"
  },
  "language_info": {
   "codemirror_mode": {
    "name": "ipython",
    "version": 3
   },
   "file_extension": ".py",
   "mimetype": "text/x-python",
   "name": "python",
   "nbconvert_exporter": "python",
   "pygments_lexer": "ipython3",
   "version": "3.11.5"
  }
 },
 "nbformat": 4,
 "nbformat_minor": 2
}
